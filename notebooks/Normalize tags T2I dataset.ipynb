{
 "cells": [
  {
   "cell_type": "code",
   "execution_count": 1,
   "id": "cfb2d5b1-bcc3-423f-959a-cc9070546c9f",
   "metadata": {},
   "outputs": [],
   "source": [
    "%load_ext autoreload\n",
    "%autoreload explicit\n",
    "\n",
    "from itertools import chain\n",
    "from collections import Counter\n",
    "from functools import cache\n",
    "import re\n",
    "from pathlib import Path\n",
    "\n",
    "\n",
    "from prelib import data_dir\n",
    "%aimport e6db.utils\n",
    "from e6db.utils import TagSetNormalizer, tag_categories, tag_category2id"
   ]
  },
  {
   "cell_type": "markdown",
   "id": "e388984c-819f-4aac-8fcf-22c70d266b91",
   "metadata": {},
   "source": [
    "# Create the mappings\n",
    "\n",
    "By default, the tag strings in this dataset are using the raw e621 format, with underscores. `TagNormalizer` enables renaming the tags and adding new spelling as aliases.\n",
    "\n",
    "The tag formating choices made here are specific to [this dataset](https://huggingface.co/datasets/k4d3/furry) meant for PDXL training with sd-scripts. You should adapt it to your own dataset, model and trainer."
   ]
  },
  {
   "cell_type": "code",
   "execution_count": 2,
   "id": "5d43e7c4-2216-4928-bb24-347fb287c07d",
   "metadata": {},
   "outputs": [],
   "source": [
    "cat_artist = e6db.utils.tag_category2id['artist']\n",
    "cat_lore = e6db.utils.tag_category2id['lore']\n",
    "\n",
    "tagset_normalizer = e6db.utils.TagSetNormalizer(data_dir)\n",
    "tagid2cat = tagset_normalizer.tag_normalizer.tag_categories\n",
    "\n",
    "@cache\n",
    "def tag_mapfun(tag_underscores, tid):\n",
    "    \"\"\"\n",
    "    Maps raw e621 tags to more natural forms.\n",
    "    Will be run on:\n",
    "\n",
    "    * The list of output tag strings,\n",
    "    * Keys from the dictionary mapping strings to ids, contains canonical tag and aliases,\n",
    "    * Implication source tags that are not used frequently enough to get an id.\n",
    "\n",
    "    Returns a list, where the first string is the canonical tag used in the output,\n",
    "    the others are additional aliases used for recognizing the tag.\n",
    "    \"\"\"\n",
    "    cat = tagid2cat[tid] if tid is not None else -1\n",
    "    tag = tag_underscores.replace('_', ' ')\n",
    "    tags = [tag, tag_underscores]\n",
    "    if cat == cat_artist:\n",
    "        if not tag.startswith('by '):\n",
    "            # 'by ' is used in the output tags\n",
    "            tags.insert(0, f'by {tag.removesuffix(' (artist)')}')\n",
    "        if not tag.endswith('(artist)'):\n",
    "            artist = tag.removeprefix('by ')\n",
    "            tags.append(f'{artist} (artist)')\n",
    "    elif cat == cat_lore and not tag.endswith(' (lore)'):\n",
    "            tags.append(f'{tag} (lore)')\n",
    "\n",
    "    escaped_parens = [t.replace('(', r'\\(').replace(')', r'\\)') for t in tags]\n",
    "    for t, ep in zip(tags[1:], escaped_parens[1:]):\n",
    "        if t != ep:\n",
    "            tags.append(ep)\n",
    "    if escaped_parens[0] != tags[0]:\n",
    "        tags.insert(0, escaped_parens[0]) # apparently sd-scripts require escaped parentheses \n",
    "    if ':' in tag: # Recognize tags where ':' were replaced by a space\n",
    "        tags.append(tag.replace(':', ' '))\n",
    "    return tags\n",
    "\n",
    "\n",
    "# Note: uses a single function to map both tag recognition and tags in the output, but this will change\n",
    "tagset_normalizer = tagset_normalizer.map_tags(tag_mapfun, on_conflict=\"overwrite_rarest\") \n",
    "# on_conflict: use warn to debug conflicts. silent, overwrite, overwrite_rarest, warn, raise\n",
    "del tag_mapfun # drop the cache\n",
    "\n",
    "# Add some underscores back\n",
    "tag_normalizer = tagset_normalizer.tag_normalizer\n",
    "tag_normalizer.rename_output('rating explicit', 'rating_explicit')\n",
    "tag_normalizer.rename_output('rating questionable', 'rating_questionable')\n",
    "tag_normalizer.rename_output('rating safe', 'rating_safe')\n",
    "# Custom mappings\n",
    "tag_normalizer.add_input_mappings('explicit', 'rating_explicit')\n",
    "tag_normalizer.add_input_mappings('score_explicit', 'rating_explicit')\n",
    "tag_normalizer.add_input_mappings('safe', 'rating_safe', on_conflict='overwrite')\n",
    "tag_normalizer.add_input_mappings('score_safe', 'rating_safe')\n",
    "tag_normalizer.add_input_mappings('questionable', 'rating_questionable', on_conflict='overwrite')\n",
    "tag_normalizer.add_input_mappings('score_questionable', 'rating_questionable')"
   ]
  },
  {
   "cell_type": "code",
   "execution_count": 3,
   "id": "8ef27e6f-8bbf-4481-b5e9-7d2b9cd8dd99",
   "metadata": {},
   "outputs": [
    {
     "data": {
      "text/plain": [
       "\u001b[0;31mSignature:\u001b[0m\n",
       "\u001b[0mtagset_normalizer\u001b[0m\u001b[0;34m.\u001b[0m\u001b[0mmap_tags\u001b[0m\u001b[0;34m(\u001b[0m\u001b[0;34m\u001b[0m\n",
       "\u001b[0;34m\u001b[0m    \u001b[0mmapfun\u001b[0m\u001b[0;34m:\u001b[0m \u001b[0mCallable\u001b[0m\u001b[0;34m[\u001b[0m\u001b[0;34m[\u001b[0m\u001b[0mstr\u001b[0m\u001b[0;34m,\u001b[0m \u001b[0mint\u001b[0m \u001b[0;34m|\u001b[0m \u001b[0;32mNone\u001b[0m\u001b[0;34m]\u001b[0m\u001b[0;34m,\u001b[0m \u001b[0mstr\u001b[0m \u001b[0;34m|\u001b[0m \u001b[0mlist\u001b[0m\u001b[0;34m[\u001b[0m\u001b[0mstr\u001b[0m\u001b[0;34m]\u001b[0m\u001b[0;34m]\u001b[0m\u001b[0;34m,\u001b[0m\u001b[0;34m\u001b[0m\n",
       "\u001b[0;34m\u001b[0m    \u001b[0mmap_input\u001b[0m\u001b[0;34m=\u001b[0m\u001b[0;32mTrue\u001b[0m\u001b[0;34m,\u001b[0m\u001b[0;34m\u001b[0m\n",
       "\u001b[0;34m\u001b[0m    \u001b[0mmap_output\u001b[0m\u001b[0;34m=\u001b[0m\u001b[0;32mTrue\u001b[0m\u001b[0;34m,\u001b[0m\u001b[0;34m\u001b[0m\n",
       "\u001b[0;34m\u001b[0m    \u001b[0mon_conflict\u001b[0m\u001b[0;34m=\u001b[0m\u001b[0;34m'raise'\u001b[0m\u001b[0;34m,\u001b[0m\u001b[0;34m\u001b[0m\n",
       "\u001b[0;34m\u001b[0m\u001b[0;34m)\u001b[0m \u001b[0;34m->\u001b[0m \u001b[0;34m'TagSetNormalizer'\u001b[0m\u001b[0;34m\u001b[0m\u001b[0;34m\u001b[0m\u001b[0m\n",
       "\u001b[0;31mDocstring:\u001b[0m\n",
       "Apply a function to all tag strings.\n",
       "\n",
       "The provided function will be run on:\n",
       "\n",
       "* The of list output tag strings,\n",
       "* Keys from the dictionary mapping strings to ids, contains canonical\n",
       "  tag and aliases,\n",
       "* Implication source tags that are not used frequently enough to get an\n",
       "  id assigned (less than twice).\n",
       "\n",
       "The function should return a list, where the first string is the\n",
       "canonical tag used in the output, the others are additional aliases\n",
       "used for recognizing the tag.\n",
       "\u001b[0;31mFile:\u001b[0m      ~/code/e6db/e6db/utils/__init__.py\n",
       "\u001b[0;31mType:\u001b[0m      method"
      ]
     },
     "metadata": {},
     "output_type": "display_data"
    }
   ],
   "source": [
    "tagset_normalizer.map_tags?"
   ]
  },
  {
   "cell_type": "markdown",
   "id": "d800f096-c8cc-4ae6-81f6-52b48df423b1",
   "metadata": {},
   "source": [
    "# Create the blacklist"
   ]
  },
  {
   "cell_type": "code",
   "execution_count": 4,
   "id": "497c2b51-4429-4d1b-93ef-b9c79193698f",
   "metadata": {},
   "outputs": [
    {
     "name": "stdout",
     "output_type": "stream",
     "text": [
      "tags=[6, 5, 17, 'unknown tag'] decoded=['solo', 'male', 'canine', 'unknown tag'] implied={0, 15}\n"
     ]
    },
    {
     "data": {
      "text/plain": [
       "\u001b[0;31mSignature:\u001b[0m \u001b[0mtagset_normalizer\u001b[0m\u001b[0;34m.\u001b[0m\u001b[0mencode\u001b[0m\u001b[0;34m(\u001b[0m\u001b[0mtags\u001b[0m\u001b[0;34m:\u001b[0m \u001b[0mIterable\u001b[0m\u001b[0;34m[\u001b[0m\u001b[0mstr\u001b[0m\u001b[0;34m]\u001b[0m\u001b[0;34m,\u001b[0m \u001b[0mkeep_implied\u001b[0m\u001b[0;34m=\u001b[0m\u001b[0;32mFalse\u001b[0m\u001b[0;34m)\u001b[0m\u001b[0;34m\u001b[0m\u001b[0;34m\u001b[0m\u001b[0m\n",
       "\u001b[0;31mDocstring:\u001b[0m\n",
       "Encode a list of string as numerical ids and strip implied tags.\n",
       "\n",
       "Unknown tags are returned as strings.\n",
       "\n",
       "Returns :\n",
       "\n",
       "* a list of tag ids and unknown tag strings,\n",
       "* a list of implied tag ids.\n",
       "\u001b[0;31mFile:\u001b[0m      ~/code/e6db/e6db/utils/__init__.py\n",
       "\u001b[0;31mType:\u001b[0m      method"
      ]
     },
     "metadata": {},
     "output_type": "display_data"
    }
   ],
   "source": [
    "# We will use tagset_normalizer.encode()/decode() to normalize tags. Demo:\n",
    "tags, implied = tagset_normalizer.encode(['solo', 'male', 'canine', 'mammal', 'unknown tag'])\n",
    "print(f'{tags=} decoded={tagset_normalizer.decode(tags)} {implied=}')\n",
    "\n",
    "tagset_normalizer.encode?"
   ]
  },
  {
   "cell_type": "code",
   "execution_count": 5,
   "id": "07c76e90-535c-4512-ab99-90196a1ef35f",
   "metadata": {},
   "outputs": [
    {
     "name": "stdout",
     "output_type": "stream",
     "text": [
      "hi res, 32016, 1621, 1897, 2002, 1860, 1940, 1798, 1889, 2011, 1970, 1896, 1845, 2013, story, 3, non- breasts, text, 1936, by third-party edit, absurd res, 9:16, 135:256, 18th century, 1890, 4:7, 1991, 2008, english text, 1914, 11:8, 1857, 2024, 1963, 4:5, 2004, 2:1, 1869, non- nipples, 1983, 1780, 1992, 1862, 256:135, 1962, 8888, 5:6, 1885, translated, 72016, 1846, 2112, hard translated, 1925, story at source, 1873, 1887, 2003, 612, story in description, 1894, 1879, 1880, 1876, smaller version at source, 1974, 1:1, 7:4, 1921, 1545, 1994, 1872, 1993, 20520, 1926, 1833, 1534, 1874, 1900, ambiguous gender, 12, 100000, 1957, 1850, 2005, 10000, 1858, 1:2, 2:3, 1566, 1965, context at source, ancient art, 1945, 682, 1955, 2022, 1956, 1837, 80085, 1975, 196, 1969, 1995, 2023, non- balls, watermarked at source, 1868, 1938, 9:14, 1916, 204, unavailable at source, 1903, 1893, 2021, 20th century, 1899, 1842, 2020, better version at source, 1979, 007, 19th century, 15th century, 2009, 1913, 1768, 2012, 2019, 1600, 1920, 1911, 1906, 1982, 1998, 2018, 3:1, 1980, 1886, 5000, 1976, 1865, 1923, 1843, 1763, 16th century, 2010, 1950, 2017, 1990, 1910, 14:9, 2007, 1971, 1841, 1908, 1823, 1438, reference image at source, 0048, 5:4, 1918, 911, 1794, 2016, 7:3, 1988, 1870, 1820, 1944, 1895, 1772, 2006, translation edit, 3:5, 1799, 1924, 20000, 1875, 1931, 1985, 6:13, 1922, 1867, sketch at source, 1989, 1907, 3:4, by conditional dnp, 1978, 1928, widescreen, superabsurd res, 1864, 1973, 1829, 1814, 1968, 1942, uncensored version at source, 1959, 1882, 19, 1901, 1927, alternate version at source, 2015, 1898, 33, 16:9, feet out of frame, 1904, 1912, 4:3, poll at source, 1891, 58008, 44, 1010, 3000, 1964, 1585, 1883, 1905, 1844, invalid tag, 666, 2014, 4k, 1946, 1917, 2000, 5:8, 1997, 1861, 2001, 1863, 6:5, 5:3, 1987, 1915, 1878, 1909, 1977, 17th century, 3:2, 343, 1:3, 1877, 1996, 4, 1853, censored version at source, 1881, 1967, 1981, 1871, 1999, 1986, 16:10, uncensored, 1919, 1984, 1972, 30000, 1939, dialogue at source, 022\n"
     ]
    }
   ],
   "source": [
    "# Manual blacklist: a list of e621 tags or unknown tag strings\n",
    "blacklist = r\"\"\"\n",
    "invalid tag, by conditional dnp, \n",
    "hi res, absurd res, superabsurd res, 4k,\n",
    "uncensored, ambiguous gender,\n",
    "translation edit, story in description,\n",
    "non- balls, non- nipples, non- breasts, feet out of frame\n",
    "\"\"\"\n",
    "blacklist = (t.strip() for t in blacklist.split(','))\n",
    "blacklist = set(t for t in blacklist if len(t) > 0)\n",
    "# multiline is ok, but don't forget the comma on line endings\n",
    "assert not any('\\n' in t for t in blacklist)\n",
    "\n",
    "# blacklist years, digits only tags, and aspect ratios\n",
    "all_tags = tagset_normalizer.tag_normalizer.idx2tag\n",
    "RE_BLACKLIST = re.compile(r'(\\d+|\\d+:\\d+)')\n",
    "blacklist.update(t for t in all_tags if RE_BLACKLIST.fullmatch(t))\n",
    "# blacklist tags enging with ' at source'\n",
    "blacklist.update(t for t in all_tags if t.endswith(' at source'))\n",
    "\n",
    "# Encode the blacklist to ids\n",
    "blacklist, implied = tagset_normalizer.encode(blacklist)\n",
    "# Also blacklist tags implied by blacklisted tags\n",
    "blacklist = set(blacklist) | implied\n",
    "\n",
    "print(', '.join(tagset_normalizer.decode(blacklist)))"
   ]
  },
  {
   "cell_type": "markdown",
   "id": "554e0048-761a-494b-9573-4fb60d55ff98",
   "metadata": {},
   "source": [
    "# Edit caption files\n",
    "\n",
    "Loads, normalize and remove implied tags from a files in a sd-script hierarchy of directories.\n",
    "\n",
    "Unknown tags are kept untouched.\n",
    "\n",
    "Specific to kade's format, captions are detected as tags ending with a period and are moved to the end of the file."
   ]
  },
  {
   "cell_type": "code",
   "execution_count": 6,
   "id": "5200e13d-983c-463c-aa8e-33429515d63e",
   "metadata": {},
   "outputs": [],
   "source": [
    "RE_SEP = re.compile(r'[,\\n]') # Split on commas and newline\n",
    "\n",
    "dataset_root = Path('~/repos/kade/furry').expanduser()\n",
    "output_dir = Path('/tmp/furry_fix')\n",
    "#output_dir = dataset_root # clobber mode\n",
    "\n",
    "def load_caption(fp):\n",
    "    tags, captions = [], []\n",
    "    with open(fp, 'rt') as fd:\n",
    "        for chunk in RE_SEP.split(fd.read()):\n",
    "            chunk = chunk.strip()\n",
    "            if not chunk:\n",
    "                continue\n",
    "            if chunk.endswith('.'):\n",
    "                captions.append(chunk)\n",
    "            else:\n",
    "                tags.append(chunk)\n",
    "    return tags, captions\n",
    "\n",
    "\n",
    "counter = Counter()\n",
    "for file in chain(dataset_root.glob('**/*.txt'), dataset_root.glob('**/*.cap*')):\n",
    "    if 'sample-prompts' in file.name:\n",
    "        continue\n",
    "    tags, captions = load_caption(file)\n",
    "    orig_tags = tags\n",
    "    tags, implied = tagset_normalizer.encode(tags)\n",
    "    tags = [t for t in tags if t not in blacklist]\n",
    "    \n",
    "    counter.update(tags)\n",
    "    tags = tagset_normalizer.decode(tags)\n",
    "    if tags == orig_tags:\n",
    "        continue\n",
    "\n",
    "    output_file = output_dir / file.relative_to(dataset_root)\n",
    "    output_file.parent.mkdir(parents=True, exist_ok=True)\n",
    "    result = ', '.join(chain(tags, captions))\n",
    "    with open(output_file, 'wt') as fd:\n",
    "        fd.write(result)"
   ]
  },
  {
   "cell_type": "code",
   "execution_count": 7,
   "id": "d4741937-f1fd-4a1c-b3ed-9698e3d76a79",
   "metadata": {},
   "outputs": [
    {
     "name": "stdout",
     "output_type": "stream",
     "text": [
      "solo                           count=10877 (e621:general)\n",
      "rating_explicit                count=9363 (e621:general)\n",
      "anthro                         count=7274 (e621:general)\n",
      "nude                           count=5906 (e621:general)\n",
      "female                         count=4525 (e621:general)\n",
      "digital media \\(artwork\\)      count=4245 (e621:meta)\n",
      "erection                       count=3952 (e621:general)\n",
      "male                           count=3821 (e621:general)\n",
      "looking at viewer              count=3600 (e621:general)\n",
      "duo                            count=3555 (e621:general)\n",
      "balls                          count=3492 (e621:general)\n",
      "tail                           count=3485 (e621:general)\n",
      "nipples                        count=3474 (e621:general)\n",
      "open mouth                     count=3264 (e621:general)\n",
      "smile                          count=3089 (e621:general)\n",
      "blush                          count=2956 (e621:general)\n",
      "rating_safe                    count=2764 (e621:general)\n",
      "white fur                      count=2338 (e621:general)\n",
      "furry                          count=2275 (e621:invalid)\n",
      "blue eyes                      count=2271 (e621:general)\n",
      "navel                          count=2252 (e621:general)\n",
      "tongue out                     count=2160 (e621:general)\n",
      "outside                        count=2069 (e621:general)\n",
      "standing                       count=1982 (e621:general)\n",
      "muscular male                  count=1977 (e621:general)\n",
      "breasts                        count=1957 (e621:general)\n",
      "butt                           count=1947 (e621:general)\n",
      "simple background              count=1910 (e621:general)\n",
      "pussy                          count=1904 (e621:general)\n",
      "penis                          count=1864 (e621:general)\n",
      "wolf                           count=1847 (e621:species)\n",
      "brown fur                      count=1799 (e621:general)\n",
      "claws                          count=1738 (e621:general)\n",
      "abs                            count=1678 (e621:general)\n",
      "animal ears                    count=1662 (e621:general)\n",
      "male focus                     count=1653 (e621:general)\n",
      "dialogue                       count=1595 (e621:general)\n",
      "big breasts                    count=1557 (e621:general)\n",
      "thick thighs                   count=1550 (e621:general)\n",
      "anus                           count=1525 (e621:general)\n",
      "furry male                     count=1511 (e621:general)\n",
      "eyes closed                    count=1486 (e621:general)\n",
      "rating_questionable            count=1480 (e621:general)\n",
      "sitting                        count=1464 (e621:general)\n",
      "pecs                           count=1452 (e621:general)\n",
      "watersports                    count=1448 (e621:general)\n",
      "horn                           count=1444 (e621:general)\n",
      "humanoid penis                 count=1392 (e621:general)\n",
      "spread legs                    count=1343 (e621:general)\n",
      "white background               count=1335 (e621:general)\n",
      "biped                          count=1334 (e621:general)\n",
      "signature                      count=1322 (e621:meta)\n",
      "fur                            count=1311 (e621:general)\n",
      "long hair                      count=1228 (e621:general)\n",
      "grey fur                       count=1223 (e621:general)\n",
      "detailed background            count=1206 (e621:general)\n",
      "teeth                          count=1177 (e621:general)\n",
      "clothed                        count=1175 (e621:general)\n",
      "black fur                      count=1152 (e621:general)\n",
      "canine                         count=1151 (e621:species)\n",
      "urine stream                   count=1148 (e621:general)\n",
      "fangs                          count=1129 (e621:general)\n",
      "male/female                    count=1101 (e621:general)\n",
      "black nose                     count=1100 (e621:general)\n",
      "fox                            count=1098 (e621:species)\n",
      "peeing                         count=1082 (e621:general)\n",
      "green eyes                     count=1058 (e621:general)\n",
      "barefoot                       count=1040 (e621:general)\n",
      "5 fingers                      count=1040 (e621:general)\n",
      "toe claws                      count=981 (e621:general)\n",
      "artist name                    count=980 (e621:meta)\n",
      "looking back                   count=980 (e621:general)\n",
      "monochrome                     count=980 (e621:meta)\n",
      "paws                           count=971 (e621:general)\n",
      "feral                          count=951 (e621:general)\n",
      "inside                         count=948 (e621:general)\n",
      "black hair                     count=940 (e621:general)\n",
      "thighs                         count=922 (e621:invalid)\n",
      "4 toes                         count=922 (e621:general)\n",
      "brown hair                     count=920 (e621:general)\n",
      "full-length portrait           count=920 (e621:meta)\n",
      "knot                           count=919 (e621:general)\n",
      "big penis                      count=915 (e621:general)\n",
      "red eyes                       count=913 (e621:general)\n",
      "by kenket                      count=913 (e621:artist)\n",
      "barazoku                       count=902 (e621:general)\n",
      "on back                        count=900 (e621:general)\n",
      "hair                           count=889 (e621:general)\n",
      "orange fur                     count=881 (e621:general)\n",
      "canine penis                   count=881 (e621:general)\n",
      "gynomorph                      count=870 (e621:general)\n",
      "by kenno arkkan                count=868 (e621:artist)\n",
      "male peeing                    count=865 (e621:general)\n",
      "tongue                         count=852 (e621:general)\n",
      "bottomless                     count=834 (e621:general)\n",
      "interspecies                   count=833 (e621:general)\n",
      "short hair                     count=828 (e621:general)\n",
      "sweat                          count=825 (e621:general)\n",
      "pawpads                        count=819 (e621:general)\n",
      "by zaush                       count=819 (e621:artist)\n"
     ]
    }
   ],
   "source": [
    "# Shows tag frequencies in the dataset, not counting the occurrences of implied tags\n",
    "for tag, count in counter.most_common(n=100):\n",
    "    if isinstance(tag, int):\n",
    "        tag_string = tagset_normalizer.tag_normalizer.decode(tag)\n",
    "        cat = tag_categories[tagset_normalizer.tag_normalizer.tag_categories[tag]]\n",
    "        print(f'{tag_string:<30} {count=} (e621:{cat})')\n",
    "    else:\n",
    "        print(f'{tag:<30} {count=} (unknown)')"
   ]
  },
  {
   "cell_type": "code",
   "execution_count": 8,
   "id": "2b9cf8a6-61e2-4806-99fb-f92403294f08",
   "metadata": {},
   "outputs": [
    {
     "name": "stdout",
     "output_type": "stream",
     "text": [
      "furry sticker(306), furry with furry(290), animal focus(287), male pubic hair(251), furry with non-furry(243), gynomorph female(224), intersex intersex(140), male masturbation(125), gynomorph male(118), navel hair(107), by spaceengine(94), gynomorph gynomorph(91), male ambiguous(89), tiger boy(87), photo \\(medium\\)(78), score explicit(63), clothed nude(60), greg rutkowski(54), five nights at freddy's security breach(53), blp(52), avery palmer(50), hamgas(48), bare pectorals(47), digimon \\(creature\\)(47), cum on boy(39), two-tone skin(39), animal hands(34), black male underwear(29), by jwst(29), leopard ears(28), ground vehicle(27), legendary(27), cum on pectorals(25), white male underwear(25), female ambiguous(25), by hubble(24), andromorph male(22), painting \\(medium\\)(22), demon horns(19), herm male(19), lion boy(18), herm female(18), dharrel(18), colored nipples(17), krystal(17), shower \\(place\\)(15), flame-tipped tail(15), genderswap \\(mtf\\)(14), sidepec(13), animal collar(13), heart-shaped chest(13), gynomorph herm(13), foot out of frame(12), animalization(12), In the picture(12), arrow \\(projectile\\)(11), naked shirt(11), colored tongue(11), herm herm(11), generation 9(11), planet pov(11), score safe(11), futa with female(10), futanari masturbation(10), whistle(10), ringtail(10), faux traditional media(10), ambiguous ambiguous(10), dappled sunlight(8), scar on leg(8), fewer digits(8), balls on floor(8), breasts squeezed together(7), pectoral cleavage(7), slingshot swimsuit(7), 6+boys(7), planted(7), white thighhighs(7), full-package futanari(7), red thighhighs(7), cowboy western(7), deviantart username(7), off on(7), regional form \\(\\)(7), score questionable(7), In a dimly lit room(7), In the background(7), with a long(7), jaguar ears(6), bar \\(place\\)(6), scar on chest(6), poke ball \\(basic\\)(6), digital media \\\\(artwork\\\\)(6), traialas(6), (toes)(6), slushie \\(character\\)(6), In the bedroom(6), naked cloak(5), jack-o' challenge(5), elbow rest(5)\n"
     ]
    }
   ],
   "source": [
    "# Top 100 of unknown tags:\n",
    "print(', '.join([f'{k}({v})' for k,v in counter.most_common() if isinstance(k, str)][:100]))"
   ]
  }
 ],
 "metadata": {
  "kernelspec": {
   "display_name": "Python 3 (ipykernel)",
   "language": "python",
   "name": "python3"
  },
  "language_info": {
   "codemirror_mode": {
    "name": "ipython",
    "version": 3
   },
   "file_extension": ".py",
   "mimetype": "text/x-python",
   "name": "python",
   "nbconvert_exporter": "python",
   "pygments_lexer": "ipython3",
   "version": "3.12.3"
  }
 },
 "nbformat": 4,
 "nbformat_minor": 5
}
